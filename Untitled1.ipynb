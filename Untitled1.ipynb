{
 "cells": [
  {
   "cell_type": "code",
   "execution_count": null,
   "metadata": {
    "colab": {
     "base_uri": "https://localhost:8080/",
     "height": 35
    },
    "colab_type": "code",
    "id": "pdxVC0hnBMo3",
    "outputId": "db666c7c-5ec1-4eec-d249-4becdc054ccb"
   },
   "outputs": [
    {
     "name": "stderr",
     "output_type": "stream",
     "text": [
      "C:\\Users\\SANTHANA HARI\\Anaconda3\\lib\\site-packages\\h5py\\__init__.py:36: FutureWarning: Conversion of the second argument of issubdtype from `float` to `np.floating` is deprecated. In future, it will be treated as `np.float64 == np.dtype(float).type`.\n",
      "  from ._conv import register_converters as _register_converters\n",
      "Using TensorFlow backend.\n"
     ]
    }
   ],
   "source": [
    "from pathlib import Path\n",
    "import numpy as np\n",
    "import joblib\n",
    "from keras.preprocessing import image\n",
    "from keras.applications import xception\n",
    "\n",
    "# Empty lists to hold the images and labels for each each image\n",
    "x_train = []\n",
    "y_train = []"
   ]
  },
  {
   "cell_type": "code",
   "execution_count": 5,
   "metadata": {
    "colab": {
     "base_uri": "https://localhost:8080/",
     "height": 145
    },
    "colab_type": "code",
    "id": "YmEmDeXKHtyU",
    "outputId": "bd688a62-5c89-40b0-d659-8655da9c1509"
   },
   "outputs": [
    {
     "name": "stderr",
     "output_type": "stream",
     "text": [
      "'git' is not recognized as an internal or external command,\n",
      "operable program or batch file.\n"
     ]
    }
   ],
   "source": [
    "!git clone https://github.com/mohanrajmit/Transfer-Learning.git"
   ]
  },
  {
   "cell_type": "code",
   "execution_count": null,
   "metadata": {
    "colab": {
     "base_uri": "https://localhost:8080/",
     "height": 35
    },
    "colab_type": "code",
    "id": "_9Es9qfMKV5l",
    "outputId": "663e23e2-a3cd-4c9c-87c9-37fa7529d7a3"
   },
   "outputs": [],
   "source": [
    "!ls"
   ]
  },
  {
   "cell_type": "code",
   "execution_count": null,
   "metadata": {
    "colab": {},
    "colab_type": "code",
    "id": "pFzZzArPBQW6"
   },
   "outputs": [],
   "source": [
    "# Load the training data set by looping over every image file\n",
    "for image_file in Path(\"Transfer-Learning/training_dataset\").glob(\"**/*.png\"):\n",
    "\n",
    "    # Load the current image file\n",
    "    image_data = image.load_img(image_file, target_size=(73, 73))\n",
    "\n",
    "    # Convert the loaded image file to a numpy array\n",
    "    image_array = image.img_to_array(image_data)\n",
    "\n",
    "    # Add the current image to our list of training images\n",
    "    x_train.append(image_array)\n",
    "\n",
    "    # Add a label for this image. If it was a not_bird image, label it 0. If it was a bird, label it 1.\n",
    "    if \"not_bird\" in image_file.stem:\n",
    "        y_train.append(0)\n",
    "    else:\n",
    "        y_train.append(1)"
   ]
  },
  {
   "cell_type": "code",
   "execution_count": null,
   "metadata": {
    "colab": {
     "base_uri": "https://localhost:8080/",
     "height": 92
    },
    "colab_type": "code",
    "id": "sBfVYK56BbwT",
    "outputId": "66da27e7-bdc8-406e-b37c-f9adc59d8ab9"
   },
   "outputs": [],
   "source": [
    "# Convert the list of separate images into a single 4D numpy array. This is what Keras expects.\n",
    "x_train = np.array(x_train)\n",
    "\n",
    "# Normalize image data to 0-to-1 range\n",
    "x_train = xception.preprocess_input(x_train)\n",
    "\n",
    "# Load the pre-trained neural network to use as a feature extractor\n",
    "feature_extractor = xception.Xception(weights='imagenet', include_top=False, input_shape=(73, 73, 3))\n",
    "\n",
    "# Extract features for each image (all in one pass)\n",
    "features_x = feature_extractor.predict(x_train)\n",
    "\n",
    "# Save the array of extracted features to a file\n",
    "joblib.dump(features_x, \"x_train.dat\")\n",
    "\n",
    "# Save the matching array of expected values to a file\n",
    "joblib.dump(y_train, \"y_train.dat\")\n"
   ]
  },
  {
   "cell_type": "code",
   "execution_count": null,
   "metadata": {
    "colab": {},
    "colab_type": "code",
    "id": "9sXXX9VOBmpv"
   },
   "outputs": [],
   "source": [
    "# Load data set of extracted features\n",
    "x_train = joblib.load(\"x_train.dat\")\n",
    "y_train = joblib.load(\"y_train.dat\")\n"
   ]
  },
  {
   "cell_type": "code",
   "execution_count": null,
   "metadata": {
    "colab": {},
    "colab_type": "code",
    "id": "CvvFDEMpKwQt"
   },
   "outputs": [],
   "source": [
    "from keras.models import Sequential\n",
    "from keras.layers import Dense, Dropout, Flatten"
   ]
  },
  {
   "cell_type": "code",
   "execution_count": null,
   "metadata": {
    "colab": {},
    "colab_type": "code",
    "id": "Nn81_QfVBvuj"
   },
   "outputs": [],
   "source": [
    "# Create a model and add layers\n",
    "model = Sequential()\n",
    "\n",
    "# Add layers to our model\n",
    "model.add(Flatten(input_shape=x_train.shape[1:]))\n",
    "model.add(Dense(128, activation='relu'))\n",
    "model.add(Dropout(0.5))\n",
    "model.add(Dense(1, activation='sigmoid'))\n",
    "\n",
    "# Compile the model\n",
    "model.compile(\n",
    "    loss='binary_crossentropy',\n",
    "    optimizer='adam',\n",
    "    metrics=['accuracy']\n",
    ")\n"
   ]
  },
  {
   "cell_type": "code",
   "execution_count": null,
   "metadata": {
    "colab": {
     "base_uri": "https://localhost:8080/",
     "height": 399
    },
    "colab_type": "code",
    "id": "-Rxngy6-Bynu",
    "outputId": "5f74502d-8704-4b36-b882-5a998c7ad395"
   },
   "outputs": [],
   "source": [
    "# Train the model\n",
    "model.fit(\n",
    "    x_train,\n",
    "    y_train,\n",
    "    validation_split=0.05,\n",
    "    epochs=10,\n",
    "    shuffle=True,\n",
    "    verbose=2\n",
    ")\n",
    "\n",
    "# Save the trained model to a file so we can use it to make predictions later\n",
    "model.save(\"bird_feature_classifier_model.h5\")"
   ]
  },
  {
   "cell_type": "code",
   "execution_count": null,
   "metadata": {
    "colab": {},
    "colab_type": "code",
    "id": "UZLgCYOnB1k-"
   },
   "outputs": [],
   "source": [
    "from keras.models import load_model\n",
    "from sklearn.metrics import confusion_matrix, classification_report"
   ]
  },
  {
   "cell_type": "code",
   "execution_count": null,
   "metadata": {
    "colab": {},
    "colab_type": "code",
    "id": "yUqfBf9ECFBU"
   },
   "outputs": [],
   "source": [
    "# Empty lists to hold the images and labels for each each image\n",
    "x_test = []\n",
    "y_test = []\n",
    "\n",
    "# Load the test data set by looping over every image file\n",
    "for image_file in Path(\"Transfer-Learning/test_dataset\").glob(\"**/*.png\"):\n",
    "\n",
    "    # Load the current image file\n",
    "    image_data = image.load_img(image_file, target_size=(73, 73))\n",
    "\n",
    "    # Convert the loaded image file to a numpy array\n",
    "    image_array = image.img_to_array(image_data)\n",
    "\n",
    "    # Add the current image to our list of test images\n",
    "    x_test.append(image_array)\n",
    "\n",
    "    # Add an expected label for this image. If it was a not_bird image, label it 0. If it was a bird, label it 1.\n",
    "    if \"not_bird\" in image_file.stem:\n",
    "        y_test.append(0)\n",
    "    else:\n",
    "        y_test.append(1)\n",
    "\n",
    "# Convert the list of test images to a numpy array\n",
    "x_test = np.array(x_test)\n",
    "\n",
    "# Normalize test data set to 0-to-1 range\n",
    "x_test = xception.preprocess_input(x_test)"
   ]
  },
  {
   "cell_type": "code",
   "execution_count": null,
   "metadata": {
    "colab": {
     "base_uri": "https://localhost:8080/",
     "height": 254
    },
    "colab_type": "code",
    "id": "mPYbXZBMCSGn",
    "outputId": "8e9bde39-3d70-43c2-b3e6-4113aa1cf57e"
   },
   "outputs": [],
   "source": [
    "# Load our trained classifier model\n",
    "model = load_model(\"bird_feature_classifier_model.h5\")\n",
    "\n",
    "# Extract features for each image (all in one pass)\n",
    "features_x = feature_extractor.predict(x_test)\n",
    "\n",
    "# Given the extracted features, make a final prediction using our own model\n",
    "predictions = model.predict(features_x)\n",
    "\n",
    "# If the model is more than 50% sure the object is a bird, call it a bird.\n",
    "# Otherwise, call it \"not a bird\".\n",
    "predictions = predictions > 0.5\n",
    "\n",
    "# Calculate how many mis-classifications the model makes\n",
    "tn, fp, fn, tp = confusion_matrix(y_test, predictions).ravel()\n",
    "print(f\"True Positives: {tp}\")\n",
    "print(f\"True Negatives: {tn}\")\n",
    "print(f\"False Positives: {fp}\")\n",
    "print(f\"False Negatives: {fn}\")\n",
    "\n",
    "# Calculate Precision and Recall for each class\n",
    "report = classification_report(y_test, predictions)\n",
    "print(report)"
   ]
  }
 ],
 "metadata": {
  "accelerator": "GPU",
  "colab": {
   "name": "Untitled1.ipynb",
   "provenance": [],
   "version": "0.3.2"
  },
  "kernelspec": {
   "display_name": "Python 3",
   "language": "python",
   "name": "python3"
  },
  "language_info": {
   "codemirror_mode": {
    "name": "ipython",
    "version": 3
   },
   "file_extension": ".py",
   "mimetype": "text/x-python",
   "name": "python",
   "nbconvert_exporter": "python",
   "pygments_lexer": "ipython3",
   "version": "3.6.5"
  }
 },
 "nbformat": 4,
 "nbformat_minor": 1
}
